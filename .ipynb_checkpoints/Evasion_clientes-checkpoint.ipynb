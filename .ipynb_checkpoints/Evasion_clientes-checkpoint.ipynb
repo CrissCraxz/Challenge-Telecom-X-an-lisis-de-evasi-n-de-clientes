{
 "cells": [
  {
   "cell_type": "markdown",
   "id": "9c81eaf3-7690-4073-b534-0c28b33af40e",
   "metadata": {},
   "source": [
    "📌 Extracción"
   ]
  },
  {
   "cell_type": "code",
   "execution_count": null,
   "id": "1ebcad6b-1f37-4852-97c4-1e738556e257",
   "metadata": {},
   "outputs": [],
   "source": [
    "import pandas as pd\n",
    "import request\n",
    "url = 'https://raw.githubusercontent.com/ingridcristh/challenge2-data-science-LATAM/main/TelecomX_Data.json'\n",
    "data = request.get(url).json()\n",
    "\n"
   ]
  },
  {
   "cell_type": "code",
   "execution_count": null,
   "id": "98f9d5d0-3a4c-43a6-8e24-3cff42517bc5",
   "metadata": {},
   "outputs": [],
   "source": [
    "df = pd.json_normalize(data)"
   ]
  },
  {
   "cell_type": "code",
   "execution_count": null,
   "id": "3fa00efb-9c22-4378-a022-6f2b807b6894",
   "metadata": {},
   "outputs": [],
   "source": [
    "df.dtypes()"
   ]
  },
  {
   "cell_type": "code",
   "execution_count": null,
   "id": "ae54902f-a894-49ef-a282-fec9b972cbba",
   "metadata": {},
   "outputs": [],
   "source": []
  },
  {
   "cell_type": "code",
   "execution_count": null,
   "id": "0c4598b7-fbfe-421e-b8af-cf947fdd0a9c",
   "metadata": {},
   "outputs": [],
   "source": []
  }
 ],
 "metadata": {
  "kernelspec": {
   "display_name": "Python 3 (ipykernel)",
   "language": "python",
   "name": "python3"
  },
  "language_info": {
   "codemirror_mode": {
    "name": "ipython",
    "version": 3
   },
   "file_extension": ".py",
   "mimetype": "text/x-python",
   "name": "python",
   "nbconvert_exporter": "python",
   "pygments_lexer": "ipython3",
   "version": "3.12.3"
  }
 },
 "nbformat": 4,
 "nbformat_minor": 5
}
